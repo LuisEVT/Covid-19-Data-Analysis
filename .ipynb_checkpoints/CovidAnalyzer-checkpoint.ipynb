{
 "cells": [
  {
   "cell_type": "markdown",
   "metadata": {},
   "source": [
    "## Covid 19 Data Analysis"
   ]
  },
  {
   "cell_type": "code",
   "execution_count": 1,
   "metadata": {},
   "outputs": [],
   "source": [
    "import numpy as np\n",
    "import pandas as pd\n",
    "import matplotlib.pyplot as plt\n",
    "from matplotlib import dates\n",
    "\n",
    "%matplotlib inline\n",
    "import statsmodels.api as sm\n",
    "import seaborn as sns\n",
    "\n",
    "import requests # Get URL data\n",
    "from bs4 import BeautifulSoup # Manipulate URL data\n",
    "import json\n",
    "from pandas import DataFrame as df"
   ]
  },
  {
   "cell_type": "markdown",
   "metadata": {},
   "source": [
    "### Grab Data from URL"
   ]
  },
  {
   "cell_type": "code",
   "execution_count": 2,
   "metadata": {},
   "outputs": [],
   "source": [
    "# Grab all data from URL\n"
   ]
  },
  {
   "cell_type": "markdown",
   "metadata": {},
   "source": [
    "### Basic Covid Data"
   ]
  },
  {
   "cell_type": "code",
   "execution_count": 3,
   "metadata": {},
   "outputs": [
    {
     "name": "stdout",
     "output_type": "stream",
     "text": [
      "Coronavirus Cases:  47,457,209\n",
      "Deaths:  1,213,534\n",
      "Recovered:  34,112,159\n"
     ]
    }
   ],
   "source": [
    "# Find basic data in div with class name maincounter-number\n"
   ]
  },
  {
   "cell_type": "code",
   "execution_count": 4,
   "metadata": {},
   "outputs": [],
   "source": [
    "# Search for table with id main_table_countries_today\n",
    "\n",
    "\n",
    "\n"
   ]
  },
  {
   "cell_type": "code",
   "execution_count": 5,
   "metadata": {},
   "outputs": [],
   "source": []
  },
  {
   "cell_type": "markdown",
   "metadata": {},
   "source": [
    "### Cleaning Up with Regex"
   ]
  },
  {
   "cell_type": "code",
   "execution_count": 6,
   "metadata": {},
   "outputs": [],
   "source": [
    "import re\n",
    "\n",
    "# Got a list of countries from the website\n",
    "countries = [\n",
    "    'usa', 'spain', 'italy', 'france', 'germany', 'uk', 'turkey', 'iran', \n",
    "    'russia', 'brazil', 'canada', 'belgium', 'netherlands', 'switzerland', \n",
    "    'india', 'peru', 'portugal', 'ecuador', 'ireland', 'sweden', 'saudi-arabia', \n",
    "    'israel', 'austria', 'mexico', 'singapore', 'japan', 'chile', 'pakistan', \n",
    "    'poland', 'romania', 'belarus', 'qatar', 'south-korea', 'united-arab-emirates', \n",
    "    'indonesia', 'ukraine', 'denmark', 'serbia', 'philippines', 'norway', \n",
    "    'czech-republic', 'australia', 'dominican-republic', 'bangladesh', 'malaysia', \n",
    "    'panama', 'colombia', 'finland', 'south-africa', 'egypt', 'morocco', 'argentina', \n",
    "    'luxembourg', 'moldova', 'algeria', 'kuwait', 'thailand', 'kazakhstan', \n",
    "    'bahrain', 'hungary', 'greece', 'oman', 'croatia', 'uzbekistan', 'iraq', \n",
    "    'armenia', 'iceland', 'afghanistan', 'estonia', 'azerbaijan', 'cameroon', \n",
    "    'bosnia-and-herzegovina', 'ghana', 'new-zealand', 'lithuania', 'slovenia', \n",
    "    'macedonia', 'slovakia', 'cuba', 'bulgaria', 'nigeria', 'cote-d-ivoire', \n",
    "    'china-hong-kong-sar', 'djibouti', 'guinea', 'bolivia', 'tunisia', 'latvia', \n",
    "    'cyprus', 'andorra', 'albania', 'lebanon', 'niger', 'kyrgyzstan', 'costa-rica', \n",
    "    'senegal', 'honduras', 'burkina-faso', 'uruguay', 'sri-lanka', 'san-marino', \n",
    "    'channel-islands', 'guatemala', 'georgia', 'democratic-republic-of-the-congo', \n",
    "    'malta', 'jordan', 'somalia', 'taiwan', 'reunion', 'mayotte', 'mali', 'kenya', \n",
    "    'jamaica', 'state-of-palestine', 'mauritius', 'venezuela', 'el-salvador', \n",
    "    'montenegro', 'isle-of-man', 'tanzania', 'viet-nam', 'equatorial-guinea', \n",
    "    'sudan', 'paraguay', 'maldives', 'congo', 'rwanda', 'faeroe-islands', 'gabon', \n",
    "    'martinique', 'guadeloupe', 'myanmar', 'gibraltar', 'brunei-darussalam', \n",
    "    'liberia', 'ethiopia', 'madagascar', 'cambodia', 'trinidad-and-tobago', \n",
    "    'french-guiana', 'bermuda', 'cabo-verde', 'aruba', 'togo', 'monaco', \n",
    "    'sierra-leone', 'zambia', 'liechtenstein', 'bahamas', 'barbados', 'uganda', \n",
    "    'mozambique', 'sint-maarten', 'guyana', 'haiti', 'cayman-islands', 'benin', \n",
    "    'libya', 'swaziland', 'french-polynesia', 'guinea-bissau', 'nepal', 'chad', \n",
    "    'china-macao-sar', 'syria', 'eritrea', 'saint-martin', 'mongolia', 'malawi', \n",
    "    'zimbabwe', 'angola', 'antigua-and-barbuda', 'timor-leste', 'botswana', \n",
    "    'central-african-republic', 'laos', 'belize', 'fiji', 'grenada', 'new-caledonia', \n",
    "    'curacao', 'dominica', 'namibia', 'saint-kitts-and-nevis', 'saint-lucia', \n",
    "    'saint-vincent-and-the-grenadines', 'nicaragua', 'falkland-islands-malvinas', \n",
    "    'burundi', 'montserrat', 'turks-and-caicos-islands', 'greenland', 'seychelles', \n",
    "    'gambia', 'suriname', 'holy-see', 'papua-new-guinea', 'mauritania', 'bhutan', \n",
    "    'british-virgin-islands', 'saint-barthelemy', 'south-sudan', 'western-sahara', \n",
    "    'caribbean-netherlands', 'sao-tome-and-principe', 'anguilla', 'saint-pierre-and-miquelon', \n",
    "    'yemen', 'china'\n",
    "]"
   ]
  }
 ],
 "metadata": {
  "kernelspec": {
   "display_name": "Python 3",
   "language": "python",
   "name": "python3"
  },
  "language_info": {
   "codemirror_mode": {
    "name": "ipython",
    "version": 3
   },
   "file_extension": ".py",
   "mimetype": "text/x-python",
   "name": "python",
   "nbconvert_exporter": "python",
   "pygments_lexer": "ipython3",
   "version": "3.8.3"
  }
 },
 "nbformat": 4,
 "nbformat_minor": 4
}
