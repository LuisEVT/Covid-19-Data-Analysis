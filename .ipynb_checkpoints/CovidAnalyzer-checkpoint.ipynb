{
 "cells": [
  {
   "cell_type": "markdown",
   "metadata": {},
   "source": [
    "## Covid 19 Data Analysis"
   ]
  },
  {
   "cell_type": "code",
   "execution_count": 1,
   "metadata": {},
   "outputs": [],
   "source": [
    "import numpy as np\n",
    "import pandas as pd\n",
    "import matplotlib.pyplot as plt\n",
    "from matplotlib import dates\n",
    "\n",
    "%matplotlib inline\n",
    "import statsmodels.api as sm\n",
    "import seaborn as sns\n",
    "\n",
    "import requests # Get URL data\n",
    "from bs4 import BeautifulSoup # Manipulate URL data\n",
    "import json"
   ]
  },
  {
   "cell_type": "markdown",
   "metadata": {},
   "source": [
    "### Grab Data from URL"
   ]
  },
  {
   "cell_type": "code",
   "execution_count": 2,
   "metadata": {},
   "outputs": [],
   "source": [
    "# Grab all data from URL\n",
    "webpage = requests.get('https://www.worldometers.info/coronavirus')\n",
    "soup = BeautifulSoup(webpage.text, 'html.parser')\n",
    "\n",
    "# PRINT HTML CODE\n",
    "#print(soup.prettify())"
   ]
  },
  {
   "cell_type": "markdown",
   "metadata": {},
   "source": [
    "### Basic Covid Data"
   ]
  },
  {
   "cell_type": "code",
   "execution_count": 3,
   "metadata": {},
   "outputs": [
    {
     "name": "stdout",
     "output_type": "stream",
     "text": [
      "Coronavirus Cases: 47,844,811\n",
      "Deaths: 1,220,224\n",
      "Recovered: 34,352,711\n"
     ]
    }
   ],
   "source": [
    "# Find basic data in <div class = maincounter-number>\n",
    "\n",
    "# A \"RESULT SET\" OF DIV'S THAT HAVE THAT SPECIFIC CLASS\n",
    "covidData = soup.find_all('div',class_ = 'maincounter-number')\n",
    "\n",
    "# STRIP AWAY ALL THE HTML CODE ON THE TEXT AND WHITESPACE\n",
    "covidData = [data.text.strip() for data in covidData]\n",
    "\n",
    "print('Coronavirus Cases: {}'.format(covidData[0]))\n",
    "print('Deaths: {}'.format(covidData[1]))\n",
    "print('Recovered: {}'.format(covidData[2]))"
   ]
  },
  {
   "cell_type": "markdown",
   "metadata": {},
   "source": [
    "#### Read Table"
   ]
  },
  {
   "cell_type": "code",
   "execution_count": 4,
   "metadata": {},
   "outputs": [],
   "source": [
    "# Search for table with id main_table_countries_today\n",
    "\n",
    "# GRABBED EVERY INSTANCE WHERE IT SAW <type = text/javascrupt>\n",
    "data = soup.find_all('script',{'type':'text/javascript'})\n",
    "\n",
    "#for content in data:\n",
    "    \n",
    "    #print(content)\n"
   ]
  },
  {
   "cell_type": "code",
   "execution_count": 5,
   "metadata": {},
   "outputs": [],
   "source": [
    "# GRAB THE INSTANCE WHERE ID IS FOUND\n",
    "results = soup.find(id='main_table_countries_today')\n",
    "\n",
    "# GRAB THE TABLE\n",
    "content = results.find_all('td')\n",
    "\n",
    "#print(content)"
   ]
  },
  {
   "cell_type": "code",
   "execution_count": 6,
   "metadata": {},
   "outputs": [],
   "source": [
    "# USED TO STORE A STRING OF INFORMATION\n",
    "cleanData = ''\n",
    "\n",
    "# ITERATE THROUGH THE 'RESULT SET'\n",
    "# CLEAN THE HTML TAGS AND WHITESPACE\n",
    "# ADD A '|' TO SEPERATE DATA\n",
    "for data in content:\n",
    "    cleanData += data.text.strip() + '|'\n",
    "    #print(data.text.strip() + '|')\n",
    "\n",
    "# REMOVE POSITIVE CHARACTERS\n",
    "cleanData = cleanData.replace('+',\"\")    \n",
    "# REPLACE EMPTY DATA 'N/A' WITH ZERO\n",
    "cleanData = cleanData.replace('N/A',\"0\")  \n",
    "#print(cleanData)"
   ]
  },
  {
   "cell_type": "markdown",
   "metadata": {},
   "source": [
    "### Cleaning Up with Regex"
   ]
  },
  {
   "cell_type": "code",
   "execution_count": 7,
   "metadata": {},
   "outputs": [],
   "source": [
    "import re\n",
    "\n",
    "# Got a list of countries from the website\n",
    "countries = [\n",
    "    'usa', 'spain', 'italy', 'france', 'germany', 'uk', 'turkey', 'iran', \n",
    "    'russia', 'brazil', 'canada', 'belgium', 'netherlands', 'switzerland', \n",
    "    'india', 'peru', 'portugal', 'ecuador', 'ireland', 'sweden', 'saudi arabia', \n",
    "    'israel', 'austria', 'mexico', 'singapore', 'japan', 'chile', 'pakistan', \n",
    "    'poland', 'romania', 'belarus', 'qatar', 'south korea', 'united arab emirates', \n",
    "    'indonesia', 'ukraine', 'denmark', 'serbia', 'philippines', 'norway', \n",
    "    'czech republic', 'australia', 'dominican republic', 'bangladesh', 'malaysia', \n",
    "    'panama', 'colombia', 'finland', 'south africa', 'egypt', 'morocco', 'argentina', \n",
    "    'luxembourg', 'moldova', 'algeria', 'kuwait', 'thailand', 'kazakhstan', \n",
    "    'bahrain', 'hungary', 'greece', 'oman', 'croatia', 'uzbekistan', 'iraq', \n",
    "    'armenia', 'iceland', 'afghanistan', 'estonia', 'azerbaijan', 'cameroon', \n",
    "    'bosnia and herzegovina', 'ghana', 'new zealand', 'lithuania', 'slovenia', \n",
    "    'macedonia', 'slovakia', 'cuba', 'bulgaria', 'nigeria', 'cote d ivoire', \n",
    "    'china hong kong sar', 'djibouti', 'guinea', 'bolivia', 'tunisia', 'latvia', \n",
    "    'cyprus', 'andorra', 'albania', 'lebanon', 'niger', 'kyrgyzstan', 'costa-rica', \n",
    "    'senegal', 'honduras', 'burkina faso', 'uruguay', 'sri lanka', 'san marino', \n",
    "    'channel-islands', 'guatemala', 'georgia', 'democratic republic of the congo', \n",
    "    'malta', 'jordan', 'somalia', 'taiwan', 'reunion', 'mayotte', 'Mali', 'kenya', \n",
    "    'jamaica', 'state of palestine', 'mauritius', 'venezuela', 'el salvador', \n",
    "    'montenegro', 'isle of man', 'tanzania', 'vietnam', 'equatorial-guinea', \n",
    "    'sudan', 'paraguay', 'maldives', 'congo', 'rwanda', 'faeroe-islands', 'gabon', \n",
    "    'martinique', 'guadeloupe', 'myanmar', 'gibraltar', 'brunei-darussalam', \n",
    "    'liberia', 'ethiopia', 'madagascar', 'cambodia', 'trinidad-and-tobago', \n",
    "    'french-guiana', 'bermuda', 'cabo-verde', 'aruba', 'togo', 'monaco', \n",
    "    'sierra-leone', 'zambia', 'liechtenstein', 'bahamas', 'barbados', 'uganda', \n",
    "    'mozambique', 'sint-maarten', 'guyana', 'haiti', 'cayman-islands', 'benin', \n",
    "    'libya', 'swaziland', 'french-polynesia', 'guinea-bissau', 'nepal', 'chad', \n",
    "    'china-macao-sar', 'syria', 'eritrea', 'saint-martin', 'mongolia', 'malawi', \n",
    "    'zimbabwe', 'angola', 'antigua-and-barbuda', 'timor-leste', 'botswana', \n",
    "    'central-african-republic', 'laos', 'belize', 'fiji', 'grenada', 'new-caledonia', \n",
    "    'curacao', 'dominica', 'namibia', 'saint-kitts-and-nevis', 'saint-lucia', \n",
    "    'saint-vincent-and-the-grenadines', 'nicaragua', 'falkland-islands-malvinas', \n",
    "    'burundi', 'montserrat', 'turks-and-caicos-islands', 'greenland', 'seychelles', \n",
    "    'gambia', 'suriname', 'holy-see', 'papua-new-guinea', 'mauritania', 'bhutan', \n",
    "    'british-virgin-islands', 'saint-barthelemy', 'south-sudan', 'western-sahara', \n",
    "    'caribbean-netherlands', 'sao-tome-and-principe', 'anguilla', 'saint-pierre-and-miquelon', \n",
    "    'yemen', 'china'\n",
    "]"
   ]
  },
  {
   "cell_type": "code",
   "execution_count": 8,
   "metadata": {},
   "outputs": [],
   "source": [
    "\n",
    "data_lst = []\n",
    "\n",
    "for c in countries:\n",
    "    # GET COUNTRY FOLLOWED BY ',' OR '|' OR 'digit' \n",
    "    # '*' and followed as many possible\n",
    "    pattern = '[|]'+c+'[|]'+'[.,|\\d]*'\n",
    "    # LOOK FOR PATTERN\n",
    "    data = re.search(pattern,cleanData, re.IGNORECASE)\n",
    "    # CHECK IF DATA IS NOT EMPTY\n",
    "    if data is not None:\n",
    "        #print(data.group(),'\\n')\n",
    "        data_lst.append(data.group().split('|')[1:])\n",
    "        #print(data_lst[-1],'\\n')\n",
    "    else:\n",
    "        pass\n",
    "    # WHICH COUNTRIES DID NOT HAVE DATA IN THIS TABLE\n",
    "        #print(c)"
   ]
  },
  {
   "cell_type": "code",
   "execution_count": 9,
   "metadata": {},
   "outputs": [],
   "source": [
    "columnName = ['Country',\n",
    "            'Total Cases',\n",
    "            'New Cases',\n",
    "            'Total Deaths',\n",
    "            'New Deaths',\n",
    "            'Total Recovered',\n",
    "            'New Recovered',\n",
    "            'Active Cases',\n",
    "            'Serious/Critical',\n",
    "            'Tot Cases/1M pop',\n",
    "            'Deaths/1M pop',\n",
    "            'Total Tests',\n",
    "            'Tests/1M pop',\n",
    "            'Population']\n",
    "\n"
   ]
  },
  {
   "cell_type": "code",
   "execution_count": 10,
   "metadata": {},
   "outputs": [
    {
     "name": "stdout",
     "output_type": "stream",
     "text": [
      "        Country  Total Cases  New Cases  Total Deaths  New Deaths  \\\n",
      "0           USA    9692528.0        0.0      238641.0         0.0   \n",
      "1         Spain    1331756.0        0.0       36495.0         0.0   \n",
      "2         Italy     759829.0        0.0       39412.0         0.0   \n",
      "3        France    1502763.0        0.0       38289.0         0.0   \n",
      "4       Germany     577131.0        0.0       10883.0         0.0   \n",
      "..          ...          ...        ...           ...         ...   \n",
      "163  Mauritania       7724.0        0.0         164.0         0.0   \n",
      "164      Bhutan        356.0        0.0           0.0         0.0   \n",
      "165    Anguilla          3.0        0.0           0.0         0.0   \n",
      "166       Yemen       2063.0        0.0         601.0         0.0   \n",
      "167       China      86087.0       17.0        4634.0         0.0   \n",
      "\n",
      "     Total Recovered  New Recovered  Active Cases  Serious/Critical  \\\n",
      "0          6236170.0            0.0     3217717.0           17816.0   \n",
      "1                0.0            0.0           0.0            2754.0   \n",
      "2           302275.0            0.0      418142.0            2225.0   \n",
      "3           120714.0            0.0     1343760.0            3878.0   \n",
      "4           371500.0            0.0      194748.0            2388.0   \n",
      "..               ...            ...           ...               ...   \n",
      "163           7437.0            0.0         123.0               3.0   \n",
      "164            326.0            0.0          30.0               0.0   \n",
      "165              3.0            0.0           0.0               0.0   \n",
      "166           1375.0            0.0          87.0               0.0   \n",
      "167          81061.0           16.0         392.0               9.0   \n",
      "\n",
      "     Tot Cases/1M pop  Deaths/1M pop  Total Tests  Tests/1M pop    Population  \n",
      "0             29223.0          720.0  150849009.0      454818.0  3.316692e+08  \n",
      "1             28480.0          780.0   18072174.0      386479.0  4.676104e+07  \n",
      "2             12573.0          652.0   16285936.0      269496.0  6.043103e+07  \n",
      "3             23005.0          586.0   16718098.0      255928.0  6.532333e+07  \n",
      "4              6881.0          130.0   21882967.0      260896.0  8.387624e+07  \n",
      "..                ...            ...          ...           ...           ...  \n",
      "163            1647.0           35.0      88926.0       18959.0  4.690549e+06  \n",
      "164             460.0            0.0     175354.0      226407.0  7.745080e+05  \n",
      "165             199.0            0.0       1820.0      120938.0  1.504900e+04  \n",
      "166              69.0           20.0      16658.0         554.0  3.004700e+07  \n",
      "167              60.0            3.0  160000000.0      111163.0  1.439324e+09  \n",
      "\n",
      "[168 rows x 14 columns]\n"
     ]
    }
   ],
   "source": [
    "# ONLY COLLECT THE DATA FROM THE FIRST 13 COLUMNS ( THE NAMED COLUMNS)\n",
    "\n",
    "\n",
    "for ii,data in enumerate(data_lst):\n",
    "    \n",
    "    data_lst[ii] = data[:-1]\n",
    "    \n",
    "    for jj, elem in enumerate(data_lst[ii][1:] ,start = 1):\n",
    "        data_lst[ii][jj] = 0 if elem =='' else float( elem.replace(',','') )\n",
    "\n",
    "\n",
    "df = pd.DataFrame(data_lst,columns = columnName)\n",
    "\n",
    "\n",
    "print(df)"
   ]
  },
  {
   "cell_type": "code",
   "execution_count": 11,
   "metadata": {},
   "outputs": [
    {
     "data": {
      "image/png": "[encoded data removed]",
      "text/plain": [
       "<Figure size 1440x720 with 1 Axes>"
      ]
     },
     "metadata": {
      "needs_background": "light"
     },
     "output_type": "display_data"
    }
   ],
   "source": [
    "plt.figure(figsize=(20,10))\n",
    "\n",
    "criteria = df['Total Cases'] > 1e6\n",
    "\n",
    "plt.bar(df['Country'][criteria], df['Total Cases'][criteria] )\n",
    "\n",
    "plt.ylabel('Total Cases',fontsize = 14)\n",
    "plt.xlabel('Country',fontsize = 14)\n",
    "plt.title('Countries with more than 1 Million Covid Cases',fontsize = 14)\n",
    "plt.show()\n"
   ]
  },
  {
   "cell_type": "code",
   "execution_count": null,
   "metadata": {},
   "outputs": [],
   "source": []
  }
 ],
 "metadata": {
  "kernelspec": {
   "display_name": "Python 3",
   "language": "python",
   "name": "python3"
  },
  "language_info": {
   "codemirror_mode": {
    "name": "ipython",
    "version": 3
   },
   "file_extension": ".py",
   "mimetype": "text/x-python",
   "name": "python",
   "nbconvert_exporter": "python",
   "pygments_lexer": "ipython3",
   "version": "3.8.3"
  }
 },
 "nbformat": 4,
 "nbformat_minor": 4
}
